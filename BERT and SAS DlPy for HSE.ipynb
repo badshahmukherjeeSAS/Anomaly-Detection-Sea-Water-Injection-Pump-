{
  "nbformat": 4,
  "nbformat_minor": 0,
  "metadata": {
    "colab": {
      "name": "Untitled0.ipynb",
      "private_outputs": true,
      "provenance": [],
      "authorship_tag": "ABX9TyMzNK3o/lSlzdqbvzka3eVn",
      "include_colab_link": true
    },
    "kernelspec": {
      "name": "python3",
      "display_name": "Python 3"
    },
    "language_info": {
      "name": "python"
    }
  },
  "cells": [
    {
      "cell_type": "markdown",
      "metadata": {
        "id": "view-in-github",
        "colab_type": "text"
      },
      "source": [
        "<a href=\"https://colab.research.google.com/github/badshahmukherjeeSAS/Anomaly-Detection-Sea-Water-Injection-Pump-/blob/master/BERT%20and%20SAS%20DlPy%20for%20HSE.ipynb\" target=\"_parent\"><img src=\"https://colab.research.google.com/assets/colab-badge.svg\" alt=\"Open In Colab\"/></a>"
      ]
    },
    {
      "cell_type": "code",
      "metadata": {
        "id": "pysLSnIGPKB_"
      },
      "source": [
        ""
      ],
      "execution_count": null,
      "outputs": []
    },
    {
      "cell_type": "code",
      "metadata": {
        "id": "bIBnzcx3PWfJ"
      },
      "source": [
        "pip install transformers\n"
      ],
      "execution_count": null,
      "outputs": []
    }
  ]
}